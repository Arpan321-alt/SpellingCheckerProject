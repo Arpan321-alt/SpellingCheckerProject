{
 "cells": [
  {
   "cell_type": "code",
   "execution_count": null,
   "id": "e565092d",
   "metadata": {},
   "outputs": [],
   "source": [
    "from textblob import TextBlob\n",
    "\n",
    "from tkinter import *\n",
    "\n",
    "\n",
    "def correct_spelling():\n",
    "    get_data=entry1.get()\n",
    "    corr=TextBlob(get_data)\n",
    "    data=corr.correct()\n",
    "    entry2.delete(0,END)\n",
    "    entry2.insert(0,data)\n",
    "\n",
    "def main_window():\n",
    "    global entry1,entry2\n",
    "    win=Tk()\n",
    "    win.geometry('500x370')\n",
    "    win.resizable(False,False)\n",
    "    win.config(bg='Blue')\n",
    "    win.title('Wscube Tech')\n",
    "    \n",
    "    lable1=Label(win,text='Incorrect Spelling',font=('Time New Roman',25,'bold'),bg='Blue',fg='white')\n",
    "    lable1.place(x=100,y=20,height=50,width=300)\n",
    "    \n",
    "    entry1=Entry(win,font=('Time New Roman',20))\n",
    "    entry1.place(x=50,y=80,height=50,width=400)\n",
    "    \n",
    "    label3=Label(win,text='Correct Spelling',font=('Time New Roman',25,'bold'),bg='Blue',fg='white')\n",
    "    label3.place(x=100,y=140,height=50,width=300)\n",
    "    \n",
    "    \n",
    "    entry2=Entry(win,font=('Time New Roman',20))\n",
    "    entry2.place(x=50,y=200,height=50,width=400)\n",
    "    \n",
    "    button = Button(win,text='Done',font=('Time New Roman',25,'bold'),bg='yellow',command=correct_spelling)\n",
    "    button.place(x=150,y=280,height=50,width=200)\n",
    "    \n",
    "    win.mainloop()\n",
    "    \n",
    "    \n",
    "    \n",
    "main_window()"
   ]
  },
  {
   "cell_type": "code",
   "execution_count": null,
   "id": "92fba876",
   "metadata": {},
   "outputs": [],
   "source": []
  },
  {
   "cell_type": "code",
   "execution_count": null,
   "id": "0df50a0d",
   "metadata": {},
   "outputs": [],
   "source": []
  }
 ],
 "metadata": {
  "kernelspec": {
   "display_name": "Python 3 (ipykernel)",
   "language": "python",
   "name": "python3"
  },
  "language_info": {
   "codemirror_mode": {
    "name": "ipython",
    "version": 3
   },
   "file_extension": ".py",
   "mimetype": "text/x-python",
   "name": "python",
   "nbconvert_exporter": "python",
   "pygments_lexer": "ipython3",
   "version": "3.11.4"
  }
 },
 "nbformat": 4,
 "nbformat_minor": 5
}
